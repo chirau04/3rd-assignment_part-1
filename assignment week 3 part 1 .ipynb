{
 "cells": [
  {
   "cell_type": "code",
   "execution_count": 6,
   "id": "3b884826-bbb7-4424-a39b-91cbd3521cc5",
   "metadata": {},
   "outputs": [],
   "source": [
    "def odd_numbers():\n",
    "    return[num for num in range(1,26)\n",
    "           if num % 2!= 0]\n",
    "result = odd_numbers()"
   ]
  },
  {
   "cell_type": "code",
   "execution_count": 7,
   "id": "11470af2-ae66-4357-8837-e21d7c9d9fe0",
   "metadata": {},
   "outputs": [
    {
     "name": "stdout",
     "output_type": "stream",
     "text": [
      "[1, 3, 5, 7, 9, 11, 13, 15, 17, 19, 21, 23, 25]\n"
     ]
    }
   ],
   "source": [
    "print(result)"
   ]
  },
  {
   "cell_type": "markdown",
   "id": "d47ea66e-5aa6-40d4-8459-23968694861c",
   "metadata": {},
   "source": [
    "example demonstrating the use of args:"
   ]
  },
  {
   "cell_type": "code",
   "execution_count": 9,
   "id": "cacc6619-0094-45f8-9188-6ae56763e3cf",
   "metadata": {},
   "outputs": [],
   "source": [
    "def example_args(*args):\n",
    "    for arg in args:\n",
    "        print(arg)"
   ]
  },
  {
   "cell_type": "code",
   "execution_count": 10,
   "id": "12ad586a-54bc-45b4-9556-658901ca0b5a",
   "metadata": {},
   "outputs": [
    {
     "name": "stdout",
     "output_type": "stream",
     "text": [
      "1\n",
      "2\n",
      "3\n",
      "four\n"
     ]
    }
   ],
   "source": [
    "example_args(1,2,3,\"four\")"
   ]
  },
  {
   "cell_type": "markdown",
   "id": "cbbe6a25-5a26-45ba-905b-a124ebc97c6e",
   "metadata": {},
   "source": [
    "here, is an example demonstrating the use of *kwargs:"
   ]
  },
  {
   "cell_type": "code",
   "execution_count": 24,
   "id": "6b7573e7-d7a3-4988-99d4-261eec6d7daa",
   "metadata": {},
   "outputs": [],
   "source": [
    "def example_kwargs(*kwargs):\n",
    "    for key,value in kwargs.items():\n",
    "        print(f\"{key}:{value}\")"
   ]
  },
  {
   "cell_type": "code",
   "execution_count": 25,
   "id": "f214acb4-1e21-4678-9f0f-33f491f2a694",
   "metadata": {},
   "outputs": [],
   "source": [
    "my_list=[2,4,6,8,10,12,14,16,18,20]"
   ]
  },
  {
   "cell_type": "markdown",
   "id": "55fc71a4-f6e9-41ce-a0b3-e21bb26d9d49",
   "metadata": {},
   "source": [
    "# initialize iterator object\n"
   ]
  },
  {
   "cell_type": "code",
   "execution_count": 26,
   "id": "e68f88e6-6792-4175-bf4e-964b76298475",
   "metadata": {},
   "outputs": [],
   "source": [
    "my_iterator =iter(my_list)"
   ]
  },
  {
   "cell_type": "markdown",
   "id": "f8759156-8509-4a08-be3c-df2b5a4eb0d5",
   "metadata": {},
   "source": [
    "# iterate and print the first five "
   ]
  },
  {
   "cell_type": "code",
   "execution_count": 29,
   "id": "ea4cf034-128e-4f2e-ad14-8991b8286e70",
   "metadata": {},
   "outputs": [
    {
     "name": "stdout",
     "output_type": "stream",
     "text": [
      "2\n",
      "4\n",
      "6\n",
      "8\n",
      "10\n"
     ]
    }
   ],
   "source": [
    "for _ in range (5):\n",
    "    element = next (my_iterator)\n",
    "    print(element)"
   ]
  },
  {
   "cell_type": "code",
   "execution_count": null,
   "id": "e22b01a5-6298-46f8-a3e8-1a54f09ad24a",
   "metadata": {},
   "outputs": [],
   "source": [
    "a generator function in python is special type of function that allows you to iterate "
   ]
  },
  {
   "cell_type": "code",
   "execution_count": 30,
   "id": "3d195b18-7429-493a-ad6c-2b396eb6d65b",
   "metadata": {},
   "outputs": [],
   "source": [
    "def generate_number (n):\n",
    "    for i in range (n):\n",
    "        yield i"
   ]
  },
  {
   "cell_type": "markdown",
   "id": "36172669-1b3c-491c-af0a-9a1711ee9de7",
   "metadata": {},
   "source": [
    "# using the generator function "
   ]
  },
  {
   "cell_type": "code",
   "execution_count": 31,
   "id": "aad16cfd-f2c9-4b07-bcc3-cfc4f13d2b3c",
   "metadata": {},
   "outputs": [],
   "source": [
    "my_generator = generate_number(5)"
   ]
  },
  {
   "cell_type": "markdown",
   "id": "79768450-01d8-4fc1-8720-ec55d330b0c4",
   "metadata": {},
   "source": [
    "# iterating and printing value"
   ]
  },
  {
   "cell_type": "code",
   "execution_count": 43,
   "id": "6d16980f-52fd-4e58-b426-da6be4bec8a3",
   "metadata": {},
   "outputs": [],
   "source": [
    "for num in my_generator :\n",
    "    print(num)"
   ]
  },
  {
   "cell_type": "code",
   "execution_count": 57,
   "id": "94a52574-fdec-4808-b826-ca66017e6f73",
   "metadata": {},
   "outputs": [
    {
     "ename": "SyntaxError",
     "evalue": "incomplete input (2032508430.py, line 4)",
     "output_type": "error",
     "traceback": [
      "\u001b[0;36m  Cell \u001b[0;32mIn[57], line 4\u001b[0;36m\u001b[0m\n\u001b[0;31m    for i in range(2, int(num**0.5) + 1) :\u001b[0m\n\u001b[0m                                           ^\u001b[0m\n\u001b[0;31mSyntaxError\u001b[0m\u001b[0;31m:\u001b[0m incomplete input\n"
     ]
    }
   ],
   "source": [
    "def is_prime(num):\n",
    "    if num < 2:\n",
    "        return false \n",
    "    for i in range(2, int(num**0.5) + 1) : "
   ]
  },
  {
   "cell_type": "markdown",
   "id": "beeb6500-9a55-4b20-b6e5-e7871df19d55",
   "metadata": {},
   "source": [
    "#function to generate fibonacci numbers"
   ]
  },
  {
   "cell_type": "code",
   "execution_count": 63,
   "id": "88bf31ec-198f-4945-9ee5-13a335b5f92d",
   "metadata": {},
   "outputs": [],
   "source": [
    "def generate_fibonacci(n):\n",
    "    fib_list = [0,1]\n",
    "    while len(fib_list)<n: \n",
    "        fib_list.append(fib_list[-1]+fib_list[-2])\n",
    "        return fib_list"
   ]
  },
  {
   "cell_type": "markdown",
   "id": "40cc7fb5-8c53-477e-b1e0-cd1c8148fd5e",
   "metadata": {},
   "source": [
    "#print the first 10 fibonacci numbers"
   ]
  },
  {
   "cell_type": "code",
   "execution_count": 64,
   "id": "9e98e0fe-852e-4195-b0c7-1b337f400e9b",
   "metadata": {},
   "outputs": [
    {
     "name": "stdout",
     "output_type": "stream",
     "text": [
      "0\n",
      "1\n",
      "1\n"
     ]
    }
   ],
   "source": [
    "fibonacci_numbers =generate_fibonacci(10)\n",
    "for num in fibonacci_numbers:\n",
    "    print(num)"
   ]
  },
  {
   "cell_type": "code",
   "execution_count": 66,
   "id": "e2638631-6810-448b-a7f0-0cb18351a066",
   "metadata": {},
   "outputs": [
    {
     "ename": "NameError",
     "evalue": "name 'char' is not defined",
     "output_type": "error",
     "traceback": [
      "\u001b[0;31m---------------------------------------------------------------------------\u001b[0m",
      "\u001b[0;31mNameError\u001b[0m                                 Traceback (most recent call last)",
      "Cell \u001b[0;32mIn[66], line 3\u001b[0m\n\u001b[1;32m      1\u001b[0m string \u001b[38;5;241m=\u001b[39m \u001b[38;5;124m\"\u001b[39m\u001b[38;5;124mpwskills\u001b[39m\u001b[38;5;124m\"\u001b[39m\n\u001b[1;32m      2\u001b[0m result \u001b[38;5;241m=\u001b[39m [char \u001b[38;5;28;01mfor\u001b[39;00m char \u001b[38;5;129;01min\u001b[39;00m string]\n\u001b[0;32m----> 3\u001b[0m \u001b[43mchar\u001b[49m\u001b[38;5;241m.\u001b[39mlower()\u001b[38;5;129;01min\u001b[39;00m \u001b[38;5;124m\"\u001b[39m\u001b[38;5;124mPWSKILLS\u001b[39m\u001b[38;5;124m\"\u001b[39m\n",
      "\u001b[0;31mNameError\u001b[0m: name 'char' is not defined"
     ]
    }
   ],
   "source": [
    "string = \"pwskills\"\n",
    "result = [char for char in string]\n",
    "char.lower()in \"PWSKILLS\""
   ]
  },
  {
   "cell_type": "code",
   "execution_count": 67,
   "id": "e5db08ea-4671-4a1c-95c6-7f4f32cce1f8",
   "metadata": {},
   "outputs": [
    {
     "ename": "SyntaxError",
     "evalue": "invalid syntax. Perhaps you forgot a comma? (3173924496.py, line 2)",
     "output_type": "error",
     "traceback": [
      "\u001b[0;36m  Cell \u001b[0;32mIn[67], line 2\u001b[0;36m\u001b[0m\n\u001b[0;31m    original_number = number\u001b[0m\n\u001b[0m                      ^\u001b[0m\n\u001b[0;31mSyntaxError\u001b[0m\u001b[0;31m:\u001b[0m invalid syntax. Perhaps you forgot a comma?\n"
     ]
    }
   ],
   "source": [
    "def is_pallindrome(number:\n",
    "                   original_number = number \n",
    "                   reversed_number = 0\n",
    "                   while number>0:\n",
    "                   digit = number %10 \n",
    "                   reversed number *10 + digit number= number//10\n",
    "                   return original_number==reversed _number)"
   ]
  },
  {
   "cell_type": "code",
   "execution_count": 72,
   "id": "36d6d1a4-5893-45e0-8923-98e4bbe8638c",
   "metadata": {},
   "outputs": [
    {
     "ename": "SyntaxError",
     "evalue": "invalid syntax (1796855412.py, line 1)",
     "output_type": "error",
     "traceback": [
      "\u001b[0;36m  Cell \u001b[0;32mIn[72], line 1\u001b[0;36m\u001b[0m\n\u001b[0;31m    odd_numbers =[num for num in range(1,101) if num% 2! = 0]\u001b[0m\n\u001b[0m                                                       ^\u001b[0m\n\u001b[0;31mSyntaxError\u001b[0m\u001b[0;31m:\u001b[0m invalid syntax\n"
     ]
    }
   ],
   "source": [
    "odd_numbers =[num for num in range(1,101) if num% 2! = 0]\n",
    "              print(odd-numbers)"
   ]
  },
  {
   "cell_type": "code",
   "execution_count": null,
   "id": "a59f73f4-0cdf-492c-ba63-85d876a9a267",
   "metadata": {},
   "outputs": [],
   "source": []
  }
 ],
 "metadata": {
  "kernelspec": {
   "display_name": "Python 3 (ipykernel)",
   "language": "python",
   "name": "python3"
  },
  "language_info": {
   "codemirror_mode": {
    "name": "ipython",
    "version": 3
   },
   "file_extension": ".py",
   "mimetype": "text/x-python",
   "name": "python",
   "nbconvert_exporter": "python",
   "pygments_lexer": "ipython3",
   "version": "3.10.8"
  }
 },
 "nbformat": 4,
 "nbformat_minor": 5
}
